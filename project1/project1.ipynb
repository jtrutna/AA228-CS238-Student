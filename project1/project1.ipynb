{
 "cells": [
  {
   "cell_type": "code",
   "execution_count": 51,
   "id": "96149367-debd-453e-a127-36369e47b0c4",
   "metadata": {},
   "outputs": [],
   "source": [
    "using LightGraphs  # for DiGraph and add_edge!\n",
    "using TikzGraphs   # for TikZ plot output\n",
    "using TikzPictures # to save TikZ as PDF\n",
    "using CSV\n",
    "using DataFrames"
   ]
  },
  {
   "cell_type": "code",
   "execution_count": 52,
   "id": "332b3cba-db36-490f-a91a-a152e5e1277b",
   "metadata": {},
   "outputs": [],
   "source": [
    "D = DataFrame(CSV.File(\"data/small.csv\"));"
   ]
  },
  {
   "cell_type": "code",
   "execution_count": 78,
   "id": "f8cd5017-021d-432a-8a8a-f8d2b262da50",
   "metadata": {},
   "outputs": [
    {
     "data": {
      "text/plain": [
       "Base.OneTo(8)"
      ]
     },
     "execution_count": 78,
     "metadata": {},
     "output_type": "execute_result"
    }
   ],
   "source": [
    "G = DiGraph(size(D, 2))"
   ]
  },
  {
   "cell_type": "code",
   "execution_count": 67,
   "id": "455f34ca-78d4-4844-b3bc-02086d45a137",
   "metadata": {},
   "outputs": [
    {
     "data": {
      "text/plain": [
       "statistics (generic function with 2 methods)"
      ]
     },
     "execution_count": 67,
     "metadata": {},
     "output_type": "execute_result"
    }
   ],
   "source": [
    "function sub2ind(siz, x)\n",
    "    k = vcat(1, cumprod(siz[1:end-1]))\n",
    "    return dot(k, x .- 1) + 1\n",
    "end\n",
    "\n",
    "function statistics(vars, G, D::DataFrame)\n",
    "    n = size(D, 1)\n",
    "    r = [vars[i].m for i in 1:n]\n",
    "    q = [prod([r[j] for j in inneighbors(G,i)]) for i in 1:n]\n",
    "    M = [zeros(q[i], r[i]) for i in 1:n]\n",
    "    for o in eachcol(D)\n",
    "        for i in 1:n\n",
    "            k = o[i]\n",
    "            parents = inneighbors(G,i)\n",
    "            j = 1\n",
    "            if !isempty(parents)\n",
    "                j = sub2ind(r[parents], o[parents])\n",
    "            end\n",
    "            M[i][j,k] += 1.0\n",
    "        end\n",
    "    end\n",
    "    return M\n",
    "end\n"
   ]
  },
  {
   "cell_type": "code",
   "execution_count": 68,
   "id": "317e6a65-8414-4bf2-b69f-1b0930212f44",
   "metadata": {},
   "outputs": [
    {
     "data": {
      "text/plain": [
       "bayesian_score (generic function with 1 method)"
      ]
     },
     "execution_count": 68,
     "metadata": {},
     "output_type": "execute_result"
    }
   ],
   "source": [
    "\n",
    "function bayesian_score_component(M, α)\n",
    "    p = sum(loggamma.(α + M))\n",
    "    p -= sum(loggamma.(α))\n",
    "    p += sum(loggamma.(sum(α,dims=2)))\n",
    "    p -= sum(loggamma.(sum(α,dims=2) + sum(M,dims=2)))\n",
    "    return p\n",
    "end\n",
    "\n",
    "function bayesian_score(vars, G, D)\n",
    "    n = length(vars)\n",
    "    M = statistics(vars, G, D)\n",
    "    α = prior(vars, G)\n",
    "    return sum(bayesian_score_component(M[i], α[i]) for i in 1:n)\n",
    "end"
   ]
  },
  {
   "cell_type": "code",
   "execution_count": 69,
   "id": "54ba307a-e764-4634-8c05-678f43b33fac",
   "metadata": {},
   "outputs": [
    {
     "data": {
      "text/plain": [
       "fit (generic function with 1 method)"
      ]
     },
     "execution_count": 69,
     "metadata": {},
     "output_type": "execute_result"
    }
   ],
   "source": [
    "struct K2Search\n",
    "    ordering::Vector{Int} # variable ordering\n",
    "end\n",
    "\n",
    "function fit(method::K2Search, vars, D)\n",
    "    G = SimpleDiGraph(length(vars))\n",
    "    for (k,i) in enumerate(method.ordering[2:end])\n",
    "        y = bayesian_score(vars, G, D)\n",
    "        while true\n",
    "            y_best, j_best = -Inf, 0\n",
    "            for j in method.ordering[1:k]\n",
    "                if !has_edge(G, j, i)\n",
    "                    add_edge!(G, j, i)\n",
    "                    y′ = bayesian_score(vars, G, D)\n",
    "                    if y′ > y_best\n",
    "                        y_best, j_best = y′, j\n",
    "                    end\n",
    "                    rem_edge!(G, j, i)\n",
    "                end\n",
    "            end\n",
    "            if y_best > y\n",
    "                y = y_best\n",
    "                add_edge!(G, j_best, i)\n",
    "            else\n",
    "                break\n",
    "            end\n",
    "        end\n",
    "    end\n",
    "    return G\n",
    "end"
   ]
  },
  {
   "cell_type": "code",
   "execution_count": 80,
   "id": "7569018b-aae4-4428-bf06-e58c2a803d1b",
   "metadata": {},
   "outputs": [
    {
     "data": {
      "text/plain": [
       "K2Search([1, 2, 3, 4, 5, 6, 7, 8])"
      ]
     },
     "execution_count": 80,
     "metadata": {},
     "output_type": "execute_result"
    }
   ],
   "source": [
    "k2order = K2Search(vertices(G))"
   ]
  },
  {
   "cell_type": "code",
   "execution_count": 81,
   "id": "23fded5e-8466-4774-a69d-f84f03e825eb",
   "metadata": {},
   "outputs": [
    {
     "ename": "LoadError",
     "evalue": "type Int64 has no field m",
     "output_type": "error",
     "traceback": [
      "type Int64 has no field m",
      "",
      "Stacktrace:",
      "  [1] getproperty(x::Int64, f::Symbol)",
      "    @ Base ./Base.jl:33",
      "  [2] (::var\"#49#53\"{Base.OneTo{Int64}})(i::Int64)",
      "    @ Main ./none:0",
      "  [3] iterate",
      "    @ ./generator.jl:47 [inlined]",
      "  [4] collect",
      "    @ ./array.jl:681 [inlined]",
      "  [5] statistics(vars::Base.OneTo{Int64}, G::SimpleDiGraph{Int64}, D::DataFrame)",
      "    @ Main ./In[67]:8",
      "  [6] bayesian_score(vars::Base.OneTo{Int64}, G::SimpleDiGraph{Int64}, D::DataFrame)",
      "    @ Main ./In[68]:12",
      "  [7] fit(method::K2Search, vars::Base.OneTo{Int64}, D::DataFrame)",
      "    @ Main ./In[69]:8",
      "  [8] top-level scope",
      "    @ In[81]:1",
      "  [9] eval",
      "    @ ./boot.jl:360 [inlined]",
      " [10] include_string(mapexpr::typeof(REPL.softscope), mod::Module, code::String, filename::String)",
      "    @ Base ./loading.jl:1116"
     ]
    }
   ],
   "source": [
    "fit(k2order, vertices(G), D)"
   ]
  },
  {
   "cell_type": "code",
   "execution_count": null,
   "id": "32561d56-2358-470d-82e7-b2d0bc9159bc",
   "metadata": {},
   "outputs": [],
   "source": []
  }
 ],
 "metadata": {
  "kernelspec": {
   "display_name": "Julia 1.6.3",
   "language": "julia",
   "name": "julia-1.6"
  },
  "language_info": {
   "file_extension": ".jl",
   "mimetype": "application/julia",
   "name": "julia",
   "version": "1.6.3"
  }
 },
 "nbformat": 4,
 "nbformat_minor": 5
}
